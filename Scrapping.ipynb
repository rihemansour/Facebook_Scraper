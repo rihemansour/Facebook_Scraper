{
 "cells": [
  {
   "cell_type": "code",
   "execution_count": null,
   "id": "b1efbc82",
   "metadata": {},
   "outputs": [],
   "source": [
    "page_list = ['cnn']"
   ]
  },
  {
   "cell_type": "code",
   "execution_count": null,
   "id": "138009c8",
   "metadata": {},
   "outputs": [],
   "source": [
    "from facebook_page_scraper import Facebook_scraper\n",
    "from webdriver_manager.firefox import GeckoDriverManager\n",
    "from selenium import webdriver\n",
    "import os\n",
    "\n",
    "# Download geckodriver manually and set the path\n",
    "gecko_path = 'path_to/geckodriver'\n",
    "driver = webdriver.Firefox(executable_path=gecko_path)\n",
    "os.environ['WDM_LOCAL'] = '1'\n",
    "os.environ['WDM_LOG_LEVEL'] = '0'\n",
    "os.environ['WDM_PRINT_FIRST_LINE'] = 'False'\n",
    "os.environ['WDM_PRINT_COMMENTS'] = 'False'\n",
    "os.environ['WDM_TARGET_PATH'] = gecko_path\n",
    "\n"
   ]
  },
  {
   "cell_type": "code",
   "execution_count": null,
   "id": "d599efa7",
   "metadata": {
    "scrolled": false
   },
   "outputs": [],
   "source": [
    "import pandas as pd\n",
    "from facebook_page_scraper import Facebook_scraper\n",
    "from datetime import datetime, timedelta\n",
    "import os.path\n",
    "\n",
    "def scrape_and_update(output_file, page_list, posts_count=10, directory=\"path_to/Desktop/scrapped\", proxy_port=10001, browser=\"firefox\", timeout=600, headless=False):\n",
    "    # Check if the output file exists\n",
    "    if os.path.isfile(output_file):\n",
    "        # Read existing data from the output file\n",
    "        existing_data = pd.read_csv(output_file)\n",
    "    else:\n",
    "        existing_data = pd.DataFrame()\n",
    "\n",
    "    # Scrap new data for each page\n",
    "    for page in page_list:\n",
    "        try:\n",
    "            proxy = f'IP:{proxy_port}'\n",
    "            scraper = Facebook_scraper(page, 100, browser, proxy=proxy, timeout=600, headless=headless)\n",
    "            filename = page \n",
    "            scraper.scrap_to_csv(filename, directory)\n",
    "        except :\n",
    "            print(f\"can't scrap this page {page}\")\n",
    "            continue\n",
    "\n",
    "    # Combine the new data with the existing data\n",
    "    new_data = pd.concat([pd.read_csv(f\"{directory}/{page}.csv\") for page in page_list])\n",
    "\n",
    "    # Remove duplicates based on all columns\n",
    "    combined_data = pd.concat([existing_data, new_data]).drop_duplicates(subset='content', keep='first')\n",
    "\n",
    "    # Save the combined and de-duplicated data to the output file\n",
    "    combined_data.to_csv(output_file, index=False)\n",
    "\n",
    "# Example usage\n",
    "output_file = \"path_to/Desktop/scrapped/scrapped_output.csv\"\n",
    "scrape_and_update(output_file, page_list, posts_count=5)\n"
   ]
  },
  {
   "cell_type": "code",
   "execution_count": null,
   "id": "6f1e7dfd",
   "metadata": {},
   "outputs": [],
   "source": [
    "df = pd.read_csv(\"path_to/Desktop/scrapped/scrapped_output.csv\")\n",
    "df"
   ]
  }
 ],
 "metadata": {
  "kernelspec": {
   "display_name": "Python 3 (ipykernel)",
   "language": "python",
   "name": "python3"
  },
  "language_info": {
   "codemirror_mode": {
    "name": "ipython",
    "version": 3
   },
   "file_extension": ".py",
   "mimetype": "text/x-python",
   "name": "python",
   "nbconvert_exporter": "python",
   "pygments_lexer": "ipython3",
   "version": "3.10.9"
  }
 },
 "nbformat": 4,
 "nbformat_minor": 5
}
